{
  "nbformat": 4,
  "nbformat_minor": 0,
  "metadata": {
    "colab": {
      "provenance": []
    },
    "kernelspec": {
      "name": "python3",
      "display_name": "Python 3"
    },
    "language_info": {
      "name": "python"
    }
  },
  "cells": [
    {
      "cell_type": "markdown",
      "source": [
        "DAY 1"
      ],
      "metadata": {
        "id": "SRbCxzsAmycy"
      }
    },
    {
      "cell_type": "code",
      "source": [
        "file_path = 'day1_input.txt'\n",
        "\n",
        "with open(file_path, 'r') as file:\n",
        "    # Iterate over each line in the file\n",
        "    result = 0\n",
        "    for line in file:\n",
        "        # Process each line as needed\n",
        "        string = line.strip()    # \"pptqkrdbeighteightsixdlsixkrlhr2\"\n",
        "        arr = []\n",
        "        for char in string:\n",
        "            arr.append(char)\n",
        "        for num in arr:\n",
        "            if num.isdigit():\n",
        "                start_ptr = num\n",
        "                break\n",
        "        for num2 in arr:\n",
        "            if num2.isdigit():\n",
        "                end_ptr = num2\n",
        "\n",
        "        number = int(\"{}{}\".format(start_ptr, end_ptr))\n",
        "        result += number\n",
        "print(result)"
      ],
      "metadata": {
        "colab": {
          "base_uri": "https://localhost:8080/"
        },
        "id": "78wzyi8vztLY",
        "outputId": "c0bcb049-63b3-479a-e6eb-188c03dd4c0a"
      },
      "execution_count": null,
      "outputs": [
        {
          "output_type": "stream",
          "name": "stdout",
          "text": [
            "54561\n"
          ]
        }
      ]
    },
    {
      "cell_type": "markdown",
      "source": [
        "DAY 1 PART 2"
      ],
      "metadata": {
        "id": "Aiwk0sUROC2n"
      }
    },
    {
      "cell_type": "code",
      "source": [
        "with open(\"day1_input.txt\") as fin:\n",
        "    data = fin.read()\n",
        "\n",
        "ans = 0\n",
        "nums = [\"one\", \"two\", \"three\", \"four\", \"five\",\n",
        "        \"six\", \"seven\", \"eight\", \"nine\"]\n",
        "for line in data.strip().split():\n",
        "    first = None\n",
        "    last = None\n",
        "    for i in range(len(line)):\n",
        "        cur = None\n",
        "        c = line[i]\n",
        "        if c.isdigit():\n",
        "            cur = int(c)\n",
        "        for j, num in enumerate(nums):\n",
        "            if line[i:(i+len(num))] == num:\n",
        "                cur = j + 1\n",
        "                break\n",
        "        if cur:\n",
        "            if first == None:\n",
        "                first = cur\n",
        "            last = cur\n",
        "    ans += first * 10 + last\n",
        "print(ans)"
      ],
      "metadata": {
        "colab": {
          "base_uri": "https://localhost:8080/"
        },
        "id": "jz12YcOcOGW7",
        "outputId": "3f0e8726-eacb-4e43-f2d8-b185dfe24d38"
      },
      "execution_count": null,
      "outputs": [
        {
          "output_type": "stream",
          "name": "stdout",
          "text": [
            "54076\n"
          ]
        }
      ]
    },
    {
      "cell_type": "markdown",
      "source": [
        "DAY 2"
      ],
      "metadata": {
        "id": "xvTpYe-DnBup"
      }
    },
    {
      "cell_type": "code",
      "source": [
        "file_path = 'day2_.txt'\n",
        "\n",
        "possible_games = 0\n",
        "\n",
        "with open(file_path, 'r') as file:\n",
        "    for line in file:\n",
        "        game = line.strip()\n",
        "\n",
        "        given_amount = {'red': 12, 'green': 13, 'blue': 14}\n",
        "        counter = {'red': 0, 'green': 0, 'blue': 0}\n",
        "\n",
        "        arr = game.split()\n",
        "        for i in range(2, len(arr) - 1):\n",
        "            if 'red' in arr[i + 1]:\n",
        "                counter['red'] += int(arr[i])\n",
        "            elif 'green' in arr[i + 1]:\n",
        "                counter['green'] += int(arr[i])\n",
        "            elif 'blue' in arr[i + 1]:\n",
        "                counter['blue'] += int(arr[i])\n",
        "\n",
        "        should_continue = all(i < j for i, j in zip(counter.values(), given_amount.values()))\n",
        "\n",
        "        if should_continue:\n",
        "            num = arr[1].replace(\":\", \"\")\n",
        "            possible_games += int(num)\n",
        "\n",
        "print(possible_games)\n"
      ],
      "metadata": {
        "colab": {
          "base_uri": "https://localhost:8080/"
        },
        "id": "f0ej0bkbnCjw",
        "outputId": "9620ce80-53a3-475f-b8d4-1cf65a034ea7"
      },
      "execution_count": null,
      "outputs": [
        {
          "output_type": "stream",
          "name": "stdout",
          "text": [
            "36\n"
          ]
        }
      ]
    },
    {
      "cell_type": "markdown",
      "source": [
        "DAY 2 PART 2"
      ],
      "metadata": {
        "id": "2Wzi2LrrcNwY"
      }
    },
    {
      "cell_type": "code",
      "source": [
        "# power in a game = number of red * green * blue cubes\n",
        "# power across multiple games = individual powers added\n",
        "# find the minimum set of cubes that needs to be present and calculate the power\n",
        "\n",
        "file_path = 'day2_2.txt'\n",
        "\n",
        "with open(file_path, 'r') as file:\n",
        "    for line in file:\n",
        "        game_cubes = []\n",
        "\n",
        "\n",
        "        for line in file:\n",
        "            _, game_data = line.split(':')\n",
        "            ball_set = game_data.split(';')\n",
        "\n",
        "            R, G, B = [], [], []\n",
        "\n",
        "            for set_ in ball_set:\n",
        "                balls = set_.split(',')\n",
        "\n",
        "                for ball in balls:\n",
        "                    if 'green' in ball:\n",
        "                        G.append(int(ball.strip().split(' ')[0]))\n",
        "                    if 'blue' in ball:\n",
        "                        B.append(int(ball.strip().split(' ')[0]))\n",
        "                    if 'red' in ball:\n",
        "                        R.append(int(ball.strip().split(' ')[0]))\n",
        "\n",
        "            game_cubes.append(max(R) * max(G) * max(B))\n",
        "\n",
        "        total_power = 0\n",
        "        for id in game_cubes:\n",
        "            total_power += id\n",
        "\n",
        "print(total_power)"
      ],
      "metadata": {
        "colab": {
          "base_uri": "https://localhost:8080/"
        },
        "id": "U-BtZVjOcQYz",
        "outputId": "7a8dccb5-94f5-4ccb-c64c-b2c2026fba49"
      },
      "execution_count": null,
      "outputs": [
        {
          "output_type": "stream",
          "name": "stdout",
          "text": [
            "79059\n"
          ]
        }
      ]
    },
    {
      "cell_type": "markdown",
      "source": [
        "DAY 3 - PART 1"
      ],
      "metadata": {
        "id": "bHQspDc42Tww"
      }
    },
    {
      "cell_type": "code",
      "source": [
        "import re\n",
        "\n",
        "file_path = \"data.txt\"\n",
        "with open(file_path, 'r') as file:\n",
        "    data = file.read().split()\n",
        "\n",
        "ans = 0\n",
        "for y, line in enumerate(data):\n",
        "    for m in re.compile(r\"\\d+\").finditer(line):\n",
        "        include = False\n",
        "        for x in range(m.start(), m.end()):\n",
        "            for y2 in range(y-1, y+2):\n",
        "                if y2 < 0 or y2 >= len(data):\n",
        "                    continue\n",
        "                for x2 in range(x-1, x+2):\n",
        "                    if x2 < 0 or x2 >= len(line):\n",
        "                        continue\n",
        "                    if data[y2][x2] not in (\".\", \"0\", \"1\", \"2\", \"3\", \"4\", \"5\", \"6\", \"7\", \"8\", \"9\"):\n",
        "                        include = True\n",
        "        if include:\n",
        "            ans += int(m.group())\n",
        "print(ans)"
      ],
      "metadata": {
        "colab": {
          "base_uri": "https://localhost:8080/"
        },
        "id": "zMexmUuh0Dhh",
        "outputId": "28c1bde6-5a6c-4e7d-d6f9-7d0f0901c585"
      },
      "execution_count": null,
      "outputs": [
        {
          "output_type": "stream",
          "name": "stdout",
          "text": [
            "539637\n"
          ]
        }
      ]
    },
    {
      "cell_type": "markdown",
      "source": [
        "DAY 3 PART 2"
      ],
      "metadata": {
        "id": "5QSuAXfB-_mk"
      }
    },
    {
      "cell_type": "code",
      "source": [
        "import numpy as np\n",
        "\n",
        "data = open('data.txt').read().split('\\n')\n",
        "\n",
        "# Find the maximum length among all rows\n",
        "max_length = max(len(row) for row in data)\n",
        "\n",
        "# Pad each row with dots (or any other character) to make them of equal length\n",
        "padded_data = [row.ljust(max_length, '.') for row in data]\n",
        "\n",
        "# Create a NumPy array from the padded data\n",
        "schematic = np.array([list(row) for row in padded_data], dtype=np.dtype(str))\n",
        "schematic = np.pad(schematic, 1, mode='constant', constant_values=['.'])\n",
        "\n",
        "# Rest of your code remains unchanged\n",
        "\n",
        "\n",
        "def has_adjacent_symbol(row, col, length):\n",
        "    section = schematic[row-1:row + 2, col-1:col + length + 1]\n",
        "    top = np.all(section[0, :] == '.')\n",
        "    bottom = np.all(section[2, :] == '.')\n",
        "    left = np.all(section[:, 0] == '.')\n",
        "    right = np.all(section[:, -1] == '.')\n",
        "    return not all([top, bottom, left, right])\n",
        "\n",
        "shape = schematic.shape\n",
        "total = 0\n",
        "gears = []\n",
        "\n",
        "for row in range(shape[0]):\n",
        "    col = 0\n",
        "    while col < shape[1]:\n",
        "        if ''.join(schematic[row, col:col+3]).isnumeric():\n",
        "            gears.append([row, col, 3])\n",
        "            col += 3\n",
        "        elif ''.join(schematic[row, col:col+2]).isnumeric():\n",
        "            gears.append([row, col, 2])\n",
        "            col += 2\n",
        "        elif ''.join(schematic[row, col:col+1]).isnumeric():\n",
        "            gears.append([row, col, 1])\n",
        "            col += 1\n",
        "        else:\n",
        "            col += 1\n",
        "\n",
        "gears = [[row, col, length] for row, col, length in gears if has_adjacent_symbol(row, col, length)]\n",
        "answer_part1 = sum([int(''.join(schematic[row, col:col+length])) for row, col, length in gears])\n",
        "print(f'Part 1: {answer_part1}')\n",
        "\n",
        "stars = [[row, col] for row in range(shape[0]) for col in range(shape[1]) if schematic[row, col] == '*']\n",
        "gear_ratios = 0\n",
        "\n",
        "for row_star, col_star in stars:\n",
        "    neighbors = [[r, c, l] for r, c, l in gears if r - 1 <= row_star <= r + 1 and c - 1 <= col_star <= c + l]\n",
        "    if len(neighbors) == 2:\n",
        "        values = [int(''.join(schematic[row, col:col+length])) for row, col, length in neighbors]\n",
        "        gear_ratios += values[0] * values[1]\n",
        "\n",
        "print(f'Part 2: {gear_ratios}')"
      ],
      "metadata": {
        "id": "Ft2pJ9pA-62t",
        "colab": {
          "base_uri": "https://localhost:8080/"
        },
        "outputId": "48cfceb8-1f08-4df7-f1ea-0491f0be27d9"
      },
      "execution_count": null,
      "outputs": [
        {
          "output_type": "stream",
          "name": "stdout",
          "text": [
            "Part 1: 539637\n",
            "Part 2: 82818007\n"
          ]
        }
      ]
    },
    {
      "cell_type": "markdown",
      "source": [
        "DAY 4 PART 1"
      ],
      "metadata": {
        "id": "QWAPTr56_Btp"
      }
    },
    {
      "cell_type": "code",
      "source": [
        "file_path = \"day4_input.txt\"\n",
        "\n",
        "# Converting to Tables\n",
        "winning_cards = []\n",
        "your_cards = []\n",
        "\n",
        "with open(file_path, 'r') as file:\n",
        "    for line in file:\n",
        "        line = line.replace(\"Card \", \"\").split(':')[1]\n",
        "        parts = line.split('|')\n",
        "\n",
        "        winning_numbers = [int(num) for num in parts[0].strip().split()]\n",
        "        your_numbers = [int(num) for num in parts[1].strip().split()]\n",
        "\n",
        "        # Append the lists to the respective tables\n",
        "        winning_cards.append(winning_numbers)\n",
        "        your_cards.append(your_numbers)\n",
        "\n",
        "# Processing\n",
        "card_len = len(your_cards)\n",
        "row_len = len(your_cards[0])\n",
        "total_points = 0\n",
        "\n",
        "for i in range(card_len):\n",
        "    points = 1/2\n",
        "    for j in range(row_len):\n",
        "        curr_num = your_cards[i][j]\n",
        "        if curr_num in winning_cards[i]:\n",
        "            points *= 2\n",
        "\n",
        "    if points != 1/2:\n",
        "        total_points += points\n",
        "\n",
        "print(total_points)"
      ],
      "metadata": {
        "colab": {
          "base_uri": "https://localhost:8080/"
        },
        "id": "Woa2xUpi_De5",
        "outputId": "17876399-f91e-4cf2-e11f-d662a12b780b"
      },
      "execution_count": null,
      "outputs": [
        {
          "output_type": "stream",
          "name": "stdout",
          "text": [
            "21568.0\n"
          ]
        }
      ]
    },
    {
      "cell_type": "markdown",
      "source": [
        "DAY 4 PART 2"
      ],
      "metadata": {
        "id": "f0XzM5DCFQA-"
      }
    },
    {
      "cell_type": "code",
      "source": [
        "def calculatePointsPart2(cards):\n",
        "    cards_arr = [1 for i in range(len(cards))]\n",
        "\n",
        "    for i in range(len(cards)):\n",
        "        numbers = cards[i].split(\":\")[1].split(\"|\")\n",
        "\n",
        "        winnining_numbers =  numbers[0].strip().split()\n",
        "        your_numbers =  numbers[1].strip().split()\n",
        "\n",
        "        winnining_numbers = {int(number) for number in winnining_numbers}\n",
        "        your_numbers = {int(number) for number in your_numbers}\n",
        "\n",
        "        count = 0\n",
        "\n",
        "        for number in your_numbers:\n",
        "            if number in winnining_numbers:\n",
        "                count += 1\n",
        "\n",
        "        loopLimit = min(i + count + 1, len(cards))\n",
        "\n",
        "        for j in range(i + 1, loopLimit):\n",
        "            cards_arr[j] += cards_arr[i]\n",
        "\n",
        "    print(sum(cards_arr))\n",
        "\n",
        "\n",
        "filePath = \"day4_input2.txt\"\n",
        "with open(filePath, \"r\", encoding=\"utf-8\") as file:\n",
        "    data = file.read()\n",
        "\n",
        "line = data.strip().split(\"\\n\")\n",
        "calculatePointsPart2(line) # 11024379"
      ],
      "metadata": {
        "colab": {
          "base_uri": "https://localhost:8080/"
        },
        "id": "FQl_FkCHEjms",
        "outputId": "9901ea4c-f0fe-4fe6-8bd5-8e8b353c52ce"
      },
      "execution_count": null,
      "outputs": [
        {
          "output_type": "stream",
          "name": "stdout",
          "text": [
            "11827296\n"
          ]
        }
      ]
    },
    {
      "cell_type": "markdown",
      "source": [
        "DAY 5 PART 1"
      ],
      "metadata": {
        "id": "Pw91ZfPZ1NVk"
      }
    },
    {
      "cell_type": "code",
      "source": [
        "# data=open('day5.txt').readlines()\n",
        "def getblankseparated():\n",
        "    with open('day5_input.txt') as f:\n",
        "        return f.read().split(\"\\n\\n\")\n",
        "data=getblankseparated()\n",
        "seeds = list(map(int, data[0].split()[1:]))\n",
        "p2seeds = []\n",
        "for i in range(0, len(seeds), 2):\n",
        "      p2seeds.append((seeds[i], seeds[i+1]))\n",
        "\n",
        "# return the array index of the range which covers the given seed (or None if none do)\n",
        "def find_range(seed, tokens):\n",
        "      for i in range(0, len(tokens), 3):\n",
        "            if seed in range(tokens[i+1], tokens[i+1] + tokens[i+2]):\n",
        "                  return i\n",
        "      return None\n",
        "\n",
        "# Transforms a seed value assuming it's in the provided range\n",
        "def transform(seed, range, tokens):\n",
        "      if range is None:\n",
        "            return seed\n",
        "      else:\n",
        "            return seed + tokens[range] - tokens[range+1]\n",
        "\n",
        "# Walk a step of the mapping for part 1\n",
        "def convert(seeds, converter):\n",
        "      tokens = list(map(int, converter.split()[2:]))\n",
        "      newseeds = []\n",
        "      for seed in seeds:\n",
        "            newseeds.append(transform(seed, find_range(seed, tokens), tokens))\n",
        "      return newseeds\n",
        "\n",
        "# Finds the start of the next range after start\n",
        "def findnext(rangestarts, start):\n",
        "      # this should really be a binary search, but :shrug:\n",
        "      for r in rangestarts:\n",
        "            if r > start:\n",
        "                  return r\n",
        "      return 98989898989898989898989898989\n",
        "\n",
        "for converter in data[1:]:\n",
        "      seeds = convert(seeds, converter)\n",
        "\n",
        "print(min(seeds))"
      ],
      "metadata": {
        "colab": {
          "base_uri": "https://localhost:8080/"
        },
        "id": "sQmHkn3v1Oxv",
        "outputId": "24116e58-d2b9-44e5-f237-6bd809532603"
      },
      "execution_count": null,
      "outputs": [
        {
          "output_type": "stream",
          "name": "stdout",
          "text": [
            "226172555\n"
          ]
        }
      ]
    },
    {
      "cell_type": "markdown",
      "source": [
        "DAY 5 PART 2"
      ],
      "metadata": {
        "id": "yaG70VOC1PkE"
      }
    },
    {
      "cell_type": "code",
      "source": [
        "# data=open('day5.txt').readlines()\n",
        "def getblankseparated():\n",
        "    with open('day5_input2.txt') as f:\n",
        "        return f.read().split(\"\\n\\n\")\n",
        "data=getblankseparated()\n",
        "seeds = list(map(int, data[0].split()[1:]))\n",
        "p2seeds = []\n",
        "for i in range(0, len(seeds), 2):\n",
        "      p2seeds.append((seeds[i], seeds[i+1]))\n",
        "\n",
        "# return the array index of the range which covers the given seed (or None if none do)\n",
        "def find_range(seed, tokens):\n",
        "      for i in range(0, len(tokens), 3):\n",
        "            if seed in range(tokens[i+1], tokens[i+1] + tokens[i+2]):\n",
        "                  return i\n",
        "      return None\n",
        "\n",
        "# Transforms a seed value assuming it's in the provided range\n",
        "def transform(seed, range, tokens):\n",
        "      if range is None:\n",
        "            return seed\n",
        "      else:\n",
        "            return seed + tokens[range] - tokens[range+1]\n",
        "\n",
        "# Finds the start of the next range after start\n",
        "def findnext(rangestarts, start):\n",
        "      # this should really be a binary search, but :shrug:\n",
        "      for r in rangestarts:\n",
        "            if r > start:\n",
        "                  return r\n",
        "      return 98989898989898989898989898989\n",
        "\n",
        "def convert2(seeds, converter):\n",
        "      tokens = list(map(int, converter.split()[2:]))\n",
        "      rangestarts = sorted(tokens[i] for i in range(1, len(tokens), 3))\n",
        "      newseeds = []\n",
        "      for start,size in seeds:\n",
        "            while size > 0:\n",
        "                  rangeIndex = find_range(start, tokens)\n",
        "                  if rangeIndex is None:\n",
        "                        endrange = findnext(rangestarts, start)\n",
        "                  else:\n",
        "                        endrange = tokens[rangeIndex + 1] + tokens[rangeIndex + 2]\n",
        "                  step = min(endrange - start, size)\n",
        "                  newseeds.append((transform(start, rangeIndex, tokens), step))\n",
        "                  size -= step\n",
        "                  start += step\n",
        "      return newseeds\n",
        "\n",
        "for converter in data[1:]:\n",
        "      p2seeds = convert2(p2seeds, converter)\n",
        "\n",
        "print(min(p2seeds)[0])"
      ],
      "metadata": {
        "colab": {
          "base_uri": "https://localhost:8080/"
        },
        "id": "Ng5DQ8eT1Qnb",
        "outputId": "acfdb839-b1b1-4a8e-8565-54d5b9181ac0"
      },
      "execution_count": null,
      "outputs": [
        {
          "output_type": "stream",
          "name": "stdout",
          "text": [
            "47909639\n"
          ]
        }
      ]
    },
    {
      "cell_type": "markdown",
      "source": [
        "DAY 6 PART 1"
      ],
      "metadata": {
        "id": "pVpnl4Hc7YL-"
      }
    },
    {
      "cell_type": "code",
      "source": [
        "total_score = 1\n",
        "lines = open('day6.txt').readlines()\n",
        "\n",
        "for i in range(len(lines[0].split(':')[1].strip().split())):\n",
        "    curr_time = lines[0].split(':')[1].strip().split()[i]\n",
        "    curr_distance = lines[1].split(\":\")[1].strip().split()[i]\n",
        "    count = 0\n",
        "\n",
        "    for i in range(int(curr_time)):\n",
        "        if i * (int(curr_time) - i) > int(curr_distance):\n",
        "            count += 1\n",
        "\n",
        "    total_score *= count\n",
        "\n",
        "print(total_score)\n",
        "\n"
      ],
      "metadata": {
        "colab": {
          "base_uri": "https://localhost:8080/"
        },
        "id": "k-ohMgn17YeF",
        "outputId": "82a3aa26-bec2-46d7-8eaf-0f871fd9a8f2"
      },
      "execution_count": null,
      "outputs": [
        {
          "output_type": "stream",
          "name": "stdout",
          "text": [
            "227850\n"
          ]
        }
      ]
    },
    {
      "cell_type": "markdown",
      "source": [
        "DAY 6 PART 2"
      ],
      "metadata": {
        "id": "bQbcsCgK7ZEn"
      }
    },
    {
      "cell_type": "code",
      "source": [
        "lines = open('day6.txt').readlines()\n",
        "\n",
        "total_score = 0\n",
        "curr_time = int(lines[0].strip().split(':')[1].replace(\" \", \"\"))\n",
        "curr_distance = int(lines[1].strip().split(':')[1].replace(\" \", \"\"))\n",
        "for i in range(int(curr_time)):\n",
        "    if i * (curr_time - i) > curr_distance:\n",
        "        total_score += 1\n",
        "\n",
        "print(total_score)"
      ],
      "metadata": {
        "colab": {
          "base_uri": "https://localhost:8080/"
        },
        "id": "Foh3-BM37ZT_",
        "outputId": "5edf1f8f-9924-41a1-8918-8ccd209d0386"
      },
      "execution_count": null,
      "outputs": [
        {
          "output_type": "stream",
          "name": "stdout",
          "text": [
            "42948149\n"
          ]
        }
      ]
    },
    {
      "cell_type": "markdown",
      "source": [
        "DAY 7 PART 1"
      ],
      "metadata": {
        "id": "tUSxndIx_3jh"
      }
    },
    {
      "cell_type": "code",
      "source": [
        "from collections import Counter\n",
        "from functools import cmp_to_key\n",
        "lines = [l.strip() for l in open(\"day7.txt\").readlines()]\n",
        "\n",
        "def typ(hand):\n",
        "    counter = Counter(hand)\n",
        "    lst = counter.most_common()\n",
        "    if lst[0][1] == 5:\n",
        "        return 7\n",
        "    elif lst[0][1] == 4:\n",
        "        return 6\n",
        "    elif lst[0][1] == 3 and lst[1][1] == 2:\n",
        "        return 5\n",
        "    elif lst[0][1] == 3:\n",
        "        return 4\n",
        "    elif lst[0][1] == 2 and lst[1][1] == 2:\n",
        "        return 3\n",
        "    elif lst[0][1] == 2:\n",
        "        return 2\n",
        "    return 1\n",
        "\n",
        "def cmp(h1, h2):\n",
        "    ordering = {'2':1,'3':2,'4':3,'5':4,'6':5,'7':6,'8':7,'9':8,'T':9,'J':10,'Q':11,'K':12,'A':13}\n",
        "    h1 = h1[0]\n",
        "    h2 = h2[0]\n",
        "    t1 = typ(h1)\n",
        "    t2 = typ(h2)\n",
        "    if t1 != t2:\n",
        "        if t1 < t2:\n",
        "            return -1\n",
        "        else:\n",
        "            return 1\n",
        "    else:\n",
        "        for i in range(5):\n",
        "            if ordering[h1[i]] < ordering[h2[i]]:\n",
        "                return -1\n",
        "            elif ordering[h1[i]] > ordering[h2[i]]:\n",
        "                return 1\n",
        "    return 0\n",
        "\n",
        "\n",
        "hands = []\n",
        "for line in lines:\n",
        "    l = line.split()\n",
        "    hands.append((l[0], int(l[1])))\n",
        "hands.sort(key=cmp_to_key(cmp))\n",
        "ans=0\n",
        "for i in range(len(hands)):\n",
        "    ans+=(i+1)*(hands[i][1])\n",
        "print(ans)"
      ],
      "metadata": {
        "colab": {
          "base_uri": "https://localhost:8080/"
        },
        "id": "UB-jLJvd_JI6",
        "outputId": "202dbcc6-d064-4f27-8fa9-a9dcad1784cd"
      },
      "execution_count": null,
      "outputs": [
        {
          "output_type": "stream",
          "name": "stdout",
          "text": [
            "251136060\n"
          ]
        }
      ]
    },
    {
      "cell_type": "markdown",
      "source": [
        "DAY 7 PART 2"
      ],
      "metadata": {
        "id": "9_AlWqCy_5sB"
      }
    },
    {
      "cell_type": "code",
      "source": [
        "from collections import defaultdict\n",
        "import sys\n",
        "FILENAME = 'day7_2.txt'\n",
        "if len(sys.argv) == 2 and sys.argv[1] == 'test':\n",
        "    FILENAME = 'input.txt'\n",
        "file = open(FILENAME, 'r')\n",
        "lines = file.readlines()\n",
        "conv = {\n",
        "    '2': 2,\n",
        "    '3': 3,\n",
        "    '4': 4,\n",
        "    '5': 5,\n",
        "    '6': 6,\n",
        "    '7': 7,\n",
        "    '8': 8,\n",
        "    '9': 9,\n",
        "    'T': 10,\n",
        "    'J': 0,\n",
        "    'Q': 12,\n",
        "    'K': 13,\n",
        "    'A': 14\n",
        "}\n",
        "hands = []\n",
        "for line in lines:\n",
        "    hand, bid = line.split()\n",
        "    bid = int(bid)\n",
        "    t = []\n",
        "    counts = defaultdict(int)\n",
        "    for c in hand:\n",
        "        t.append(conv[c])\n",
        "        counts[conv[c]] +=1\n",
        "    pairs = list(counts.items())\n",
        "    pairs.sort(key= lambda x: x[1], reverse=True)\n",
        "    newpairs = []\n",
        "    added = False\n",
        "    if conv['J'] in counts and len(counts) > 1:\n",
        "        for card, num in pairs:\n",
        "            if card != conv['J']:\n",
        "                if not added:\n",
        "                    newpairs.append((card, num + counts[conv['J']]))\n",
        "                    added =True\n",
        "                else:\n",
        "                    newpairs.append((card, num))\n",
        "        pairs = newpairs\n",
        "    val = 0\n",
        "    if pairs[0][1] == 5:\n",
        "        val = 6\n",
        "    elif pairs[0][1] == 4:\n",
        "        val = 5\n",
        "    elif pairs[0][1] == 3:\n",
        "        if pairs[1][1] == 2:\n",
        "            val = 4\n",
        "        else:\n",
        "            val = 3\n",
        "    elif pairs[0][1] == 2:\n",
        "        if pairs[1][1] == 2:\n",
        "            val = 2\n",
        "        else:\n",
        "            val = 1\n",
        "    t = [conv[x] for x in hand]\n",
        "    hands.append(((val, t), bid, hand))\n",
        "hands.sort(key = lambda x: x[0])\n",
        "# print(hands)\n",
        "total = 0\n",
        "for i in range(len(hands)):\n",
        "    total += (i+1)* hands[i][1]\n",
        "print(total)"
      ],
      "metadata": {
        "colab": {
          "base_uri": "https://localhost:8080/"
        },
        "id": "kWghvY2O_6VZ",
        "outputId": "be5b7fb3-fd72-47ad-8805-c6e23125ba58"
      },
      "execution_count": null,
      "outputs": [
        {
          "output_type": "stream",
          "name": "stdout",
          "text": [
            "249400220\n"
          ]
        }
      ]
    },
    {
      "cell_type": "markdown",
      "source": [
        "DAY 8 PART 1 - 2"
      ],
      "metadata": {
        "id": "oFytmnKSAzP0"
      }
    },
    {
      "cell_type": "code",
      "source": [
        "import sys\n",
        "import re\n",
        "from math import gcd\n",
        "from collections import defaultdict, Counter\n",
        "D = open(\"day8.txt\").read().strip()\n",
        "L = D.split('\\n')\n",
        "\n",
        "def lcm(xs):\n",
        "  ans = 1\n",
        "  for x in xs:\n",
        "    ans = (x*ans)//gcd(x,ans)\n",
        "  return ans\n",
        "\n",
        "GO = {'L': {}, 'R': {}}\n",
        "steps, rule = D.split('\\n\\n')\n",
        "for line in rule.split('\\n'):\n",
        "  st, lr = line.split('=')\n",
        "  st = st.strip()\n",
        "  left,right = lr.split(',')\n",
        "  left = left.strip()[1:].strip()\n",
        "  right = right[:-1].strip()\n",
        "  GO['L'][st] = left\n",
        "  GO['R'][st] = right\n",
        "\n",
        "def solve(part2):\n",
        "  POS = []\n",
        "  for s in GO['L']:\n",
        "    if s.endswith('A' if part2 else 'AAA'):\n",
        "      POS.append(s)\n",
        "  T = {}\n",
        "  t = 0\n",
        "  while True:\n",
        "    NP = []\n",
        "    for i,p in enumerate(POS):\n",
        "      p = GO[steps[t%len(steps)]][p]\n",
        "      if p.endswith('Z'):\n",
        "        T[i] = t+1\n",
        "        # we need to solve t % A[i] == 0 for 6 different values of A[i]\n",
        "        # in general, you could have to sole t % A[i] = B[i].\n",
        "        # you can do this with the chinese remainder theorem.\n",
        "        if len(T) == len(POS):\n",
        "          return lcm(T.values())\n",
        "      NP.append(p)\n",
        "    POS = NP\n",
        "    #if all(p.endswith('Z') for p in POS):\n",
        "    #  break\n",
        "    t += 1\n",
        "  assert False\n",
        "print(solve(False))\n",
        "print(solve(True))"
      ],
      "metadata": {
        "colab": {
          "base_uri": "https://localhost:8080/"
        },
        "id": "o0TfdfU2Ansj",
        "outputId": "566db34d-bf73-4d07-fcbf-cce95004783e"
      },
      "execution_count": null,
      "outputs": [
        {
          "output_type": "stream",
          "name": "stdout",
          "text": [
            "15871\n",
            "11283670395017\n"
          ]
        }
      ]
    },
    {
      "cell_type": "markdown",
      "source": [
        "DAY 9 PART 1"
      ],
      "metadata": {
        "id": "32NPpFln-z_o"
      }
    },
    {
      "cell_type": "code",
      "source": [
        "def extrapolate_next_value(history):\n",
        "    sequences = [history]\n",
        "    while not all(value == 0 for value in sequences[-1]):\n",
        "        new_sequence = [sequences[-1][i+1] - sequences[-1][i] for i in range(len(sequences[-1]) - 1)]\n",
        "        sequences.append(new_sequence)\n",
        "\n",
        "    for i in range(len(sequences) - 2, -1, -1):\n",
        "        sequences[i].append(sequences[i][-1] + sequences[i+1][-1])\n",
        "\n",
        "    return sequences[0][-1]\n",
        "\n",
        "def extrapolate_next_value_from_file(file_path):\n",
        "    with open(file_path, 'r') as file:\n",
        "        lines = file.readlines()\n",
        "\n",
        "    histories = [list(map(int, line.strip().split())) for line in lines]\n",
        "\n",
        "    sum_extrapolated_values = sum(extrapolate_next_value(history) for history in histories)\n",
        "\n",
        "    return sum_extrapolated_values\n",
        "\n",
        "\n",
        "file_path = 'day9.txt'\n",
        "sum_extrapolated_values = extrapolate_next_value_from_file(file_path)\n",
        "print(sum_extrapolated_values)"
      ],
      "metadata": {
        "id": "lXzPi6-ZA-8J",
        "colab": {
          "base_uri": "https://localhost:8080/"
        },
        "outputId": "3bc1c4d2-3927-40bb-82db-79befd9ffac3"
      },
      "execution_count": null,
      "outputs": [
        {
          "output_type": "stream",
          "name": "stdout",
          "text": [
            "2101499000\n"
          ]
        }
      ]
    },
    {
      "cell_type": "code",
      "source": [],
      "metadata": {
        "id": "Th-JTO7wF-H6"
      },
      "execution_count": null,
      "outputs": []
    },
    {
      "cell_type": "markdown",
      "source": [
        "DAY 9 PART 2"
      ],
      "metadata": {
        "id": "0kH1gQjVCZgc"
      }
    },
    {
      "cell_type": "code",
      "source": [
        "def extrapolate_previous_value(history):\n",
        "    \"\"\"\n",
        "    This function takes a history of values and extrapolates the previous value.\n",
        "    It generates sequences of differences until they are all zeroes, then works\n",
        "    backwards to find the previous value.\n",
        "    \"\"\"\n",
        "    sequences = [history]\n",
        "    while not all(value == 0 for value in sequences[-1]):\n",
        "        new_sequence = [sequences[-1][i+1] - sequences[-1][i] for i in range(len(sequences[-1]) - 1)]\n",
        "        sequences.append(new_sequence)\n",
        "\n",
        "    for i in range(len(sequences) - 2, -1, -1):\n",
        "        sequences[i].insert(0, sequences[i][0] - sequences[i+1][0])\n",
        "\n",
        "    return sequences[0][0]\n",
        "\n",
        "def extrapolate_previous_value_from_file(file_path):\n",
        "    \"\"\"\n",
        "    Reads histories from a file and extrapolates the previous value for each history.\n",
        "    Sums up these extrapolated values and returns the sum.\n",
        "    \"\"\"\n",
        "    with open(file_path, 'r') as file:\n",
        "        lines = file.readlines()\n",
        "\n",
        "    histories = [list(map(int, line.strip().split())) for line in lines]\n",
        "\n",
        "    sum_extrapolated_values = sum(extrapolate_previous_value(history) for history in histories)\n",
        "\n",
        "    return sum_extrapolated_values\n",
        "\n",
        "\n",
        "file_path = 'day9_2.txt'\n",
        "sum_extrapolated_values = extrapolate_previous_value_from_file(file_path)\n",
        "print(sum_extrapolated_values)"
      ],
      "metadata": {
        "colab": {
          "base_uri": "https://localhost:8080/"
        },
        "id": "jerJe4GmCZ4x",
        "outputId": "9a0a9e04-25a1-4513-9f64-7497ac42b196"
      },
      "execution_count": null,
      "outputs": [
        {
          "output_type": "stream",
          "name": "stdout",
          "text": [
            "1089\n"
          ]
        }
      ]
    },
    {
      "cell_type": "markdown",
      "source": [
        "DAY 10 PART 1 & 2"
      ],
      "metadata": {
        "id": "UAdhtwHwzBol"
      }
    },
    {
      "cell_type": "code",
      "source": [
        "import sys\n",
        "import re\n",
        "from copy import deepcopy\n",
        "from math import gcd\n",
        "from collections import defaultdict, Counter, deque\n",
        "D = open(\"day10_2.txt\").read().strip()\n",
        "L = D.split('\\n')\n",
        "\n",
        "G = [[c for c in row] for row in L]\n",
        "R = len(G)\n",
        "C = len(G[0])\n",
        "\n",
        "# find coordinates of S and replace with correct type of pipe\n",
        "for r in range(R):\n",
        "  for c in range(C):\n",
        "    if G[r][c]=='S':\n",
        "      sr,sc = r,c\n",
        "      up_valid = (G[r-1][c] in ['|','7','F'])\n",
        "      right_valid = (G[r][c+1] in ['-','7','J'])\n",
        "      down_valid = (G[r+1][c] in ['|','L','J'])\n",
        "      left_valid = (G[r][c-1] in ['-','L','F'])\n",
        "      assert sum([up_valid, right_valid, down_valid, left_valid]) == 2\n",
        "      if up_valid and down_valid:\n",
        "        G[r][c]='|'\n",
        "        sd = 0\n",
        "      elif up_valid and right_valid:\n",
        "        G[r][c]='L'\n",
        "        sd = 0\n",
        "      elif up_valid and left_valid:\n",
        "        G[r][c]='J'\n",
        "        sd = 0\n",
        "      elif down_valid and right_valid:\n",
        "        G[r][c]='F'\n",
        "        sd = 2\n",
        "      elif down_valid and left_valid:\n",
        "        G[r][c]='7'\n",
        "        sd = 2\n",
        "      elif left_valid and right_valid:\n",
        "        G[r][c]='-'\n",
        "        sd = 1\n",
        "      else:\n",
        "        assert False\n",
        "\n",
        "# up right down left\n",
        "DR = [-1,0,1,0]\n",
        "DC = [0,1,0,-1]\n",
        "r = sr\n",
        "c = sc\n",
        "d = sd\n",
        "dist = 0\n",
        "while True:\n",
        "  dist += 1\n",
        "  r += DR[d]\n",
        "  c += DC[d]\n",
        "  if G[r][c]=='L':\n",
        "    if d not in [2,3]:\n",
        "      break\n",
        "    elif d==2:\n",
        "      d = 1\n",
        "    else:\n",
        "      d = 0\n",
        "  if G[r][c]=='J':\n",
        "    if d not in [1,2]:\n",
        "      break\n",
        "    elif d==1:\n",
        "      d = 0\n",
        "    else:\n",
        "      d = 3\n",
        "  if G[r][c]=='7':\n",
        "    # up right down left\n",
        "    if d not in [0,1]:\n",
        "      break\n",
        "    elif d==0:\n",
        "      d = 3\n",
        "    else:\n",
        "      d = 2\n",
        "  if G[r][c]=='F':\n",
        "    if d not in [0,3]:\n",
        "      break\n",
        "    elif d==0:\n",
        "      d = 1\n",
        "    else:\n",
        "      d = 2\n",
        "  assert G[r][c] != '.'\n",
        "  if (r,c) == (sr,sc):\n",
        "    print(dist//2)\n",
        "    break\n",
        "\n",
        "# replace every square with 3x3 of ground/wall e.g.\n",
        "#      .x.\n",
        "# | -> .x.\n",
        "#      .x.\n",
        "R2 = 3*R\n",
        "C2 = 3*C\n",
        "G2 = [['.' for _ in range(C2)] for _ in range(R2)]\n",
        "for r in range(R):\n",
        "  for c in range(C):\n",
        "    if G[r][c]=='|':\n",
        "      G2[3*r+0][3*c+1] = 'x'\n",
        "      G2[3*r+1][3*c+1] = 'x'\n",
        "      G2[3*r+2][3*c+1] = 'x'\n",
        "    elif G[r][c]=='-':\n",
        "      G2[3*r+1][3*c+0] = 'x'\n",
        "      G2[3*r+1][3*c+1] = 'x'\n",
        "      G2[3*r+1][3*c+2] = 'x'\n",
        "    elif G[r][c]=='7':\n",
        "      G2[3*r+1][3*c+0] = 'x'\n",
        "      G2[3*r+1][3*c+1] = 'x'\n",
        "      G2[3*r+2][3*c+1] = 'x'\n",
        "    elif G[r][c]=='F':\n",
        "      G2[3*r+2][3*c+1] = 'x'\n",
        "      G2[3*r+1][3*c+1] = 'x'\n",
        "      G2[3*r+1][3*c+2] = 'x'\n",
        "    elif G[r][c]=='J':\n",
        "      G2[3*r+1][3*c+0] = 'x'\n",
        "      G2[3*r+1][3*c+1] = 'x'\n",
        "      G2[3*r+0][3*c+1] = 'x'\n",
        "    elif G[r][c]=='L':\n",
        "      G2[3*r+0][3*c+1] = 'x'\n",
        "      G2[3*r+1][3*c+1] = 'x'\n",
        "      G2[3*r+1][3*c+2] = 'x'\n",
        "    elif G[r][c]=='.':\n",
        "      pass\n",
        "    else:\n",
        "      assert False, G[r][c]\n",
        "for row in G2:\n",
        "  #print(''.join(row))\n",
        "  pass\n",
        "\n",
        "Q = deque()\n",
        "SEEN = set()\n",
        "# up right down left\n",
        "for r in range(R2):\n",
        "  Q.append((r,0))\n",
        "  Q.append((r,C2-1))\n",
        "for c in range(C2):\n",
        "  Q.append((0,c))\n",
        "  Q.append((R2-1,c))\n",
        "while Q:\n",
        "  # either (r,c) for ground or (r,c,in_or_out) for pipe\n",
        "  r,c = Q.popleft()\n",
        "  if (r,c) in SEEN:\n",
        "    continue\n",
        "  if not (0<=r<R2 and 0<=c<C2):\n",
        "    continue\n",
        "  #print(r,c,G[r//3][c//3])\n",
        "  SEEN.add((r,c))\n",
        "  if G2[r][c]=='x':\n",
        "    continue\n",
        "  for d in range(4):\n",
        "    Q.append((r+DR[d],c+DC[d]))\n",
        "ans = 0\n",
        "for r in range(R):\n",
        "  for c in range(C):\n",
        "    seen = False\n",
        "    for rr in [0,1,2]:\n",
        "      for cc in [0,1,2]:\n",
        "        if (3*r+rr,3*c+cc) in SEEN:\n",
        "          seen = True\n",
        "    if not seen:\n",
        "      ans += 1\n",
        "print(ans)"
      ],
      "metadata": {
        "colab": {
          "base_uri": "https://localhost:8080/"
        },
        "id": "5cwNnZcVzDnh",
        "outputId": "4866e83e-65f5-4207-db59-7c35dd34b3c4"
      },
      "execution_count": null,
      "outputs": [
        {
          "output_type": "stream",
          "name": "stdout",
          "text": [
            "7107\n",
            "281\n"
          ]
        }
      ]
    },
    {
      "cell_type": "markdown",
      "source": [
        "DAY 11"
      ],
      "metadata": {
        "id": "4xCjOINgNbYt"
      }
    },
    {
      "cell_type": "code",
      "source": [
        "with open(\"day11.txt\", 'r') as file:\n",
        "    grid = file.read().splitlines()\n",
        "\n",
        "    empty_rows = []\n",
        "    for y, row in enumerate(grid):\n",
        "        if all(c=='.' for c in row):\n",
        "            empty_rows.append(y)\n",
        "\n",
        "    empty_cols = []\n",
        "    for col in range(len(grid[0])):\n",
        "        if all(grid[x][col] == '.' for x in range(len(grid))):\n",
        "            empty_cols.append(col)\n",
        "\n",
        "    galaxies = []\n",
        "    for x, row in enumerate(grid):\n",
        "        for y, c in enumerate(row):\n",
        "            if c == '#':\n",
        "                galaxies.append((y, x))\n",
        "\n",
        "    part1, part2 = 0, 0\n",
        "    for i, (ax, ay) in enumerate(galaxies):\n",
        "        for bx, by in galaxies[i + 1 :]:\n",
        "            part1 += abs(ax - bx) + abs(ay - by)\n",
        "            part2 += abs(ax - bx) + abs(ay - by)\n",
        "            for y in empty_rows:\n",
        "                if ay < y < by or by < y < ay:\n",
        "                    part1 += 1\n",
        "                    part2 += 999999\n",
        "            for x in empty_cols:\n",
        "                if ax < x < bx or bx < x < ax:\n",
        "                    part1 += 1\n",
        "                    part2 += 999999\n",
        "\n",
        "    print(\"Part 1:\", part1)\n",
        "    print(\"Part 2:\", part2)"
      ],
      "metadata": {
        "colab": {
          "base_uri": "https://localhost:8080/"
        },
        "id": "mY2fLdcBNhYZ",
        "outputId": "5ca27c31-f140-454a-b125-c124ca3b7810"
      },
      "execution_count": null,
      "outputs": [
        {
          "output_type": "stream",
          "name": "stdout",
          "text": [
            "Part 1: 10313550\n",
            "Part 2: 611998089572\n"
          ]
        }
      ]
    }
  ]
}